{
  "cells": [
    {
      "cell_type": "code",
      "execution_count": 9,
      "metadata": {
        "colab": {
          "base_uri": "https://localhost:8080/"
        },
        "id": "Lg6ViVJTx4Bd",
        "outputId": "77e0f698-3195-423f-90b2-a21047d25bb9"
      },
      "outputs": [
        {
          "name": "stdout",
          "output_type": "stream",
          "text": [
            "<title>\n",
            "\tWelcome to COMSATS University Islamabad, Lahore Campus | CUI Lahore\n",
            "</title>\n",
            "200\n",
            "Click here for registration >>\n",
            "The Honorable Rector CUI, Prof. Dr. Muhammad T. Afzal visited CUI Lahore Campus\n",
            "Read More\n",
            "PEC visit of ECE Department CUI Lahore\n",
            "Emerging Energy Technologies for Microgrids in Pakistan\n",
            "Exhibition: Explore the works of B.Design Thesis Spring 2021\n",
            "PEC Visit of ECE Dept, CUI Lahore\n",
            "The Honorable Rector CUI, Prof. Dr. Muhammad T. Afzal visited CUI Lahore Campus\n",
            "\n",
            "DICE-IET, March 6-7, 2020, a joint initiative of COMSATS University Islamabad (CUI), Pakistan and DICE Foundation, USA\n",
            "DICE-IET, March 6-7, 2020, a joint initiative of COMSATS University Islamabad (CUI), Pakistan and DICE Foundation, USA\n",
            "Students Week Inauguration, Spring 2020\n",
            "Friendly Cricket Match between Lahore Qalandars and COMSATS Cricket Team on Feb 11, 2020\n",
            "Meet Up of Saad Sultan, Agata Fatimah Sultan & Umair Wahla with Music Wing of MINT Media Society on Feb 28, 2020\n",
            "One day International Symposium on Modern Trends in Batteries and Super Capacitirs  by Department of Physics\n",
            "Read More\n",
            "CUI Lahore state-of-the-art and purpose built Campus\n",
            "Admissions\n",
            "Faculties & Departments\n",
            "Research\n",
            "Scholarships\n",
            "About Us\n",
            "Campuses\n",
            "Reach Us at\n",
            "Contact Us\n",
            "Follow Us\n",
            "Campus Map\n",
            "{'Cache-Control': 'private', 'Content-Type': 'text/html; charset=utf-8', 'Content-Encoding': 'gzip', 'Vary': 'Accept-Encoding', 'Server': 'Microsoft-IIS/8.5', 'Set-Cookie': 'ASP.NET_SessionId=ezvtlemrfuyd5ddayzdeqgdb; path=/; HttpOnly', 'X-AspNet-Version': '4.0.30319', 'X-Powered-By': 'ASP.NET', 'X-Powered-By-Plesk': 'PleskWin', 'Date': 'Wed, 19 Oct 2022 08:13:20 GMT', 'Content-Length': '17971'}\n",
            "Microsoft-IIS/8.5\n"
          ]
        }
      ],
      "source": [
        "#WEB SCRAPING\n",
        "import requests\n",
        "from bs4 import BeautifulSoup\n",
        "url='https://lahore.comsats.edu.pk/default.aspx'\n",
        "response = requests.get(url)\n",
        "soup= BeautifulSoup(response.content, 'html5lib')\n",
        "print (soup.title)\n",
        "print (response.status_code)\n",
        "headings=soup.findAll(\"h4\")\n",
        "for data in headings:\n",
        "  headings= data.text.strip()\n",
        "  print (headings)\n",
        "print (response.headers)\n",
        "print (response.headers['Server'])"
      ]
    }
  ],
  "metadata": {
    "colab": {
      "provenance": []
    },
    "kernelspec": {
      "display_name": "Python 3",
      "name": "python3"
    },
    "language_info": {
      "name": "python"
    }
  },
  "nbformat": 4,
  "nbformat_minor": 0
}
